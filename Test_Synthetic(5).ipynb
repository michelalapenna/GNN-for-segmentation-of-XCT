{
 "cells": [
  {
   "cell_type": "code",
   "execution_count": 1,
   "metadata": {},
   "outputs": [],
   "source": [
    "from imports import*\n",
    "from utils import*\n",
    "from models import*\n",
    "#from Train_Eval import*"
   ]
  },
  {
   "cell_type": "code",
   "execution_count": 2,
   "metadata": {},
   "outputs": [
    {
     "name": "stdout",
     "output_type": "stream",
     "text": [
      "Device: cuda\n"
     ]
    }
   ],
   "source": [
    "#Now let's train the network on the graphs\n",
    "\n",
    "device = 'cuda' if torch.cuda.is_available() else 'cpu'\n",
    "\n",
    "# If you use GPU, the device should be cuda\n",
    "print('Device: {}'.format(device))"
   ]
  },
  {
   "cell_type": "code",
   "execution_count": 3,
   "metadata": {},
   "outputs": [],
   "source": [
    "args = {\n",
    "    'device': device,\n",
    "    'heads': 2,\n",
    "    'num_features' : 1,\n",
    "    'hidden' : 100,\n",
    "    'num_classes' : 6,\n",
    "    'dropout': 0.001,\n",
    "    'alpha' : 0.1,\n",
    "    'lr': 0.001,\n",
    "    'epochs': 100,\n",
    "}"
   ]
  },
  {
   "cell_type": "code",
   "execution_count": 4,
   "metadata": {},
   "outputs": [],
   "source": [
    "side = 512"
   ]
  },
  {
   "cell_type": "code",
   "execution_count": null,
   "metadata": {},
   "outputs": [],
   "source": [
    "features_test = raw_to_tensor(\"CVSynth.raw\", side)\n",
    "\n",
    "labels_test = raw_to_tensor(\"CVSynth_Labels.raw\", side)"
   ]
  },
  {
   "cell_type": "code",
   "execution_count": null,
   "metadata": {},
   "outputs": [],
   "source": [
    "new_side = 64"
   ]
  },
  {
   "cell_type": "code",
   "execution_count": null,
   "metadata": {},
   "outputs": [],
   "source": [
    "cloud = torch.cartesian_prod(torch.tensor(range(0, new_side)), torch.tensor(range(0, new_side)), torch.tensor(range(0, new_side)))"
   ]
  },
  {
   "cell_type": "code",
   "execution_count": null,
   "metadata": {},
   "outputs": [],
   "source": [
    "k_neigh = 6"
   ]
  },
  {
   "cell_type": "code",
   "execution_count": null,
   "metadata": {},
   "outputs": [],
   "source": [
    "edges = create_edges(k_neigh, cloud)"
   ]
  },
  {
   "cell_type": "code",
   "execution_count": null,
   "metadata": {},
   "outputs": [],
   "source": [
    "x_test = torch.tensor(view_as_windows(features_test.numpy(), (64,64,64), step=28).reshape(-1,64**3,1))\n",
    "\n",
    "y_test = torch.tensor(view_as_windows(labels_test.numpy(), (64,64,64), step=28).reshape(-1,64**3))"
   ]
  },
  {
   "cell_type": "code",
   "execution_count": null,
   "metadata": {},
   "outputs": [],
   "source": [
    "data_list_test = []\n",
    "\n",
    "for i in range(x_test.size()[0]):\n",
    "    data_list_test.append(Data(x=x_test[i], edge_index=edges, y=y_test[i]))\n",
    "\n",
    "test_loader = DataLoader(data_list_test, batch_size=1, shuffle=False)"
   ]
  },
  {
   "cell_type": "code",
   "execution_count": null,
   "metadata": {},
   "outputs": [],
   "source": [
    "batch = 1"
   ]
  },
  {
   "cell_type": "code",
   "execution_count": null,
   "metadata": {},
   "outputs": [],
   "source": [
    "class Eval_Test:\n",
    "\n",
    "  def __init__(self, model, device):\n",
    "       \n",
    "    self.model = model\n",
    "    self.device = device\n",
    "\n",
    "  def eval_function(self, data_loader):\n",
    "\n",
    "    # Sets model to train mode\n",
    "    self.model.eval()\n",
    "\n",
    "    data_loader = data_loader\n",
    "\n",
    "    preds = torch.zeros((6,1)).cpu()\n",
    "\n",
    "    for step, batch in enumerate(tqdm(data_loader, desc=\"Iteration\")): #remind that tqdm draws progress bars\n",
    "\n",
    "      model = self.model.to(device)\n",
    "      \n",
    "      batch = batch.to(device)\n",
    "\n",
    "      batch_index = batch.batch\n",
    "\n",
    "      edge_index = batch.edge_index.type(torch.LongTensor).to(device)\n",
    "      \n",
    "      with torch.no_grad():\n",
    "        preds = torch.cat((preds,torch.nn.functional.softmax(model((batch.x).float(), edge_index, batch_index).transpose(1,0).cpu(), dim=0)),1)\n",
    "\n",
    "      torch.cuda.empty_cache()\n",
    "      del(batch)\n",
    "      del(batch_index)\n",
    "      del(edge_index)\n",
    "      gc.collect()\n",
    "      \n",
    "    return preds"
   ]
  },
  {
   "cell_type": "code",
   "execution_count": null,
   "metadata": {},
   "outputs": [],
   "source": [
    "# Define Volume Size of the whole Volume (cube Size):\n",
    "Vol_Size = 512\n",
    "#Define Volume Size of the input (minibatch) Volume (minibatch cube Size):\n",
    "MinBatch_Vol_Size = 64\n",
    "#Define Stride:\n",
    "Stride = 28\n",
    "\n",
    "#Therefore the number of Steps are:\n",
    "Steps = int((Vol_Size - MinBatch_Vol_Size) / Stride + 1)"
   ]
  },
  {
   "cell_type": "code",
   "execution_count": null,
   "metadata": {},
   "outputs": [],
   "source": [
    "plt.imshow(labels_test[0], vmin=0, vmax=5)\n",
    "plt.savefig(\"Labels\")\n",
    "\n",
    "plt.close()"
   ]
  },
  {
   "cell_type": "code",
   "execution_count": null,
   "metadata": {},
   "outputs": [],
   "source": [
    "for i in range(10):\n",
    "\n",
    "  model = GNN(args['heads'], args['num_features'], args['hidden'], args['num_classes'], args['dropout']).to(device)\n",
    "  model.load_state_dict(torch.load('GNN_200_non_augm_' + str(i) + '.h5'))\n",
    "  model.eval()\n",
    "\n",
    "  eval_obj = Eval_Test(model, device)\n",
    "\n",
    "\n",
    "  preds = eval_obj.eval_function(test_loader)\n",
    "\n",
    "\n",
    "  all_preds = preds[:,1:].reshape(6, 17, 17, 17, 64, 64, 64)\n",
    "\n",
    "\n",
    "  summed_preds = torch.zeros(6, 512,512,512)\n",
    "\n",
    "\n",
    "  for l in range(6):\n",
    "      for i in range(Steps):\n",
    "          for j in range(Steps):\n",
    "              for k in range(Steps):\n",
    "                  summed_preds[l,(i)*Stride:(i)*Stride+MinBatch_Vol_Size, \n",
    "                  (j)*Stride:(j)*Stride+MinBatch_Vol_Size, \n",
    "                  (k)*Stride:(k)*Stride+MinBatch_Vol_Size] = summed_preds[l,(i)*Stride:(i)*Stride+MinBatch_Vol_Size, \n",
    "                  (j)*Stride:(j)*Stride+MinBatch_Vol_Size, \n",
    "                  (k)*Stride:(k)*Stride+MinBatch_Vol_Size] + all_preds[l, i, j, k, :, :, :]\n",
    "\n",
    "\n",
    "  preds_argmax = torch.argmax(summed_preds, dim=0)\n",
    "\n",
    "  plt.imshow(preds_argmax[0], vmin=0, vmax=5)\n",
    "  #plt.plot(range(len(losses)), losses)\n",
    "  plt.savefig(\"Preds_Gnn_\" + str(i))\n",
    "  plt.close()\n",
    "\n",
    "  DICE = dice(preds_argmax, labels_test, average='none', num_classes=6)\n",
    "\n",
    "  data = [i, 100 * DICE[0], 100 * DICE[1], 100 * DICE[2],\n",
    "          100 * DICE[3], 100 * DICE[4], 100 * DICE[5]]\n",
    "\n",
    "  with open('Dice_Test_Synthetic_gnn_200_non_augm.csv', 'a') as f:\n",
    "                writer = csv.writer(f)\n",
    "                writer.writerow(data)"
   ]
  }
 ],
 "metadata": {
  "kernelspec": {
   "display_name": "env",
   "language": "python",
   "name": "python3"
  },
  "language_info": {
   "codemirror_mode": {
    "name": "ipython",
    "version": 3
   },
   "file_extension": ".py",
   "mimetype": "text/x-python",
   "name": "python",
   "nbconvert_exporter": "python",
   "pygments_lexer": "ipython3",
   "version": "3.10.9"
  },
  "orig_nbformat": 4
 },
 "nbformat": 4,
 "nbformat_minor": 2
}
